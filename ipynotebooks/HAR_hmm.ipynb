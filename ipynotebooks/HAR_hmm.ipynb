{
 "cells": [
  {
   "cell_type": "code",
   "execution_count": 1,
   "metadata": {
    "collapsed": true
   },
   "outputs": [],
   "source": [
    "import scipy.io\n",
    "import numpy as np\n",
    "from __future__ import division\n",
    "from sklearn.model_selection import LeaveOneOut as loo\n",
    "from sklearn.metrics import accuracy_score, classification_report\n",
    "from hmmlearn.hmm import GaussianHMM\n",
    "# hmmlearn is a library for machine learning with Hidden Markov Models\n",
    "# At the moment of coding, I had a lot of warnings for deprecation of commands in the next updates, to hide them:\n",
    "import warnings \n",
    "warnings.simplefilter(\"ignore\")\n",
    "\n",
    "# Import the data\n",
    "mat = scipy.io.loadmat('HAR_database.mat')\n",
    "# Extract x_train and y_train\n",
    "train = mat['database_training']\n",
    "x_train = train[:,0]\n",
    "y_train = train[:,1]\n",
    "# Extract x_test (unlabeled)\n",
    "x_test = mat['database_test'][:,0]"
   ]
  },
  {
   "cell_type": "markdown",
   "metadata": {},
   "source": [
    "The train partition is composed by 8 labelled sequences, each one represent the\n",
    "records for a human being. Each sequence is composed by 5-dimensional signals\n",
    "corresponding to the person performing a set of activities (running, walking,\n",
    "standing, sitting, lying) in seminaturalistic conditions. The first 2 dimensions\n",
    "concern data from an Accelerometer: the z-axis and the modulus of the (x,y)\n",
    "axes. The following three refer to a 3-axes gyroscope. The lenght of a sequence\n",
    "representing a person varies from one to another, in a range from approximately\n",
    "16 thousand observations, to 19 thousand. Each observation (sampled with a\n",
    "16Hz frequency) is labelled with a number from 1 to 5:\n",
    "\n",
    "1. walking\n",
    "\n",
    "2. running\n",
    "\n",
    "3. standing\n",
    "\n",
    "4. sitting\n",
    "\n",
    "5. lying"
   ]
  },
  {
   "cell_type": "code",
   "execution_count": 2,
   "metadata": {
    "collapsed": false
   },
   "outputs": [
    {
     "data": {
      "text/plain": [
       "array([ array([[ 0.02417325,  0.01990478,  0.03474859, ...,  0.15302195,\n",
       "         0.16644707,  0.13097667],\n",
       "       [ 0.59441693,  0.60247182,  0.52582067, ...,  1.9454901 ,\n",
       "         2.00124793,  1.9890223 ],\n",
       "       [-0.02273627, -0.01287489, -0.0200163 , ...,  0.00468276,\n",
       "        -0.00249675, -0.00409452],\n",
       "       [ 0.11196179,  0.10379559,  0.10319319, ...,  0.11359097,\n",
       "         0.10181863,  0.10699662],\n",
       "       [ 0.06049883,  0.05515676,  0.05754055, ...,  0.04945955,\n",
       "         0.06203927,  0.06837131]]),\n",
       "       array([[-0.00614456,  0.09416632,  0.02556427, ...,  0.25846636,\n",
       "         0.26831659,  0.20932986],\n",
       "       [ 0.15163056,  0.27388097,  0.24967994, ...,  1.01129501,\n",
       "         1.00222655,  0.94156865],\n",
       "       [-0.02664025, -0.02277741, -0.00710769, ..., -0.02000222,\n",
       "        -0.0194218 , -0.01871779],\n",
       "       [-0.06663789, -0.08298231, -0.10177238, ..., -0.03517126,\n",
       "        -0.04314523, -0.04061162],\n",
       "       [ 0.24180082,  0.23684254,  0.24130693, ...,  0.24131465,\n",
       "         0.23414938,  0.24768909]])], dtype=object)"
      ]
     },
     "execution_count": 2,
     "metadata": {},
     "output_type": "execute_result"
    }
   ],
   "source": [
    "# show the first two people\n",
    "x_train[0:2]"
   ]
  },
  {
   "cell_type": "markdown",
   "metadata": {},
   "source": [
    "A straightforward approach is to build a Hidden Markov Model for each one of\n",
    "the 5 activities. Therefore, at the end of the training procedure, I will have 5\n",
    "different models. With this, a way to predict the activity for the observations in\n",
    "the test sets (or in a new records), will simply be to compare the log-likelihood\n",
    "of the models on each 5-dimensional signal in the sequential records for a person.\n",
    "\n",
    "Given that activities are different, the sequence of 5-dim signals recorded during\n",
    "the times that activity is performed will have a different shape than signals\n",
    "recorded in other moments. For example I could intuitively expect a wave with\n",
    "larger oscillation for an activity as running, with respect to the others; probably I\n",
    "will need an higher number of hidden states to describe it. Moreover I recall that\n",
    "we are studying people, not robot, hence I have to consider how each person \"do\n",
    "activities\" in a unique way; I expect divergencies in nearly every activity-related\n",
    "meausre: the rythm, how they balance their bodies, how they breath, even if\n",
    "sometimes it is just a slight divergence. Because of that, when I train an HMM\n",
    "on a set of people (especially when it is a reduced as our train partition with 8\n",
    "individuals) I guess it is importan to assume they can be either very different\n",
    "from each other or overhall similar except of an anomal person, or whichever\n",
    "other combination. Therefore the hidden-states tuning has to be conducted with\n",
    "a certain care: I deploy a LOO cross-validation approach, adapted in this case\n",
    "as a Leave-one-(person)-out. Precisely, what does the following function do?\n",
    "\n",
    "I can provide it with the label of an action (1,2,3,4,5 in this case) and the\n",
    "number of hidden states I want to test (if I give for example, 15, it means\n",
    "every int from 1 to 15).\n",
    "\n",
    "+ I use the function loo from the scikitlearn.crossvalidation library to automatically compute leave-lone-out cross-validation indices for the 8 people\n",
    "in the train dataset.\n",
    "+ From now on, it is a structure of iterations into iterations:\n",
    "+ For each hidden-state I want to try:\n",
    "+ For each pair of indices (ex: train [0,1,2,3,4,5,6],validation[7]) yielded by the leave-one-out function:\n",
    "+ >> I split the original train dataset: 7 people as the (sub)train partition\n",
    "and I keep one out for validation.\n",
    "+ >> From each person’s record in the (sub)train partition I extract only\n",
    "the singals belonging to the action under study and I concatenate\n",
    "them into a unique array.\n",
    "+ >> On this array I fit a HMM with Gaussian emission, diagonal covariance matrix, and the tried number of hidden states.\n",
    "+ >> I compute the log-likelihood of that HMM on the person representing the validation partition (obviously this was as well subsetted only for the signals belonging to the analyzed action). This log-likelihood is stored.\n",
    "+ >> At the end of the cross-validation of the HMMs for that hiddenstate I will have 8 different log-likelihood scores, each one yielded by the model fitted on 7 people and validated on the left-out person. I compute the average of them and consider it a reasonable benchmark for the success of an HMM with that number of hidden-states, in the prediction task for the action under consideration.\n",
    "+ Once I’ve repeated the procedure for all the different hidden-states desired to test, I can confront the (average) log-likelihood yielded by each one of them during the LOO cross-validation, and choose the number of hiddenstates that returns the maximum one.\n",
    "\n",
    "The important aspect of this approach is that, using the Leave-one-out approach, the log-likelihood scores I obtain from each iteration are very sensitive\n",
    "to the particularity of the person I’m testing on. This will be evidenced soon commenting my results.\n",
    "\n",
    "***\n",
    "### Leave-One-Out cross-validation"
   ]
  },
  {
   "cell_type": "code",
   "execution_count": 13,
   "metadata": {
    "collapsed": false
   },
   "outputs": [],
   "source": [
    "def LOOcv(action, hs, num_iter):\n",
    "    range_hiddenStates = range(1,hs+1)\n",
    "    global hs_actions\n",
    "    hs_actions= {1:0,2:0,3:0,4:0,5:0}\n",
    "    LOO_lls = [] # to store the avg log-likelihoods obtained throughout the LOOcv trying hidden-states = hs\n",
    "    # for each hidden-state\n",
    "    for hs in range_hiddenStates:\n",
    "        # to store the log-likelihood with 'hs' hidden states, obtained at each validation in the LOOcv\n",
    "        lls_hs=[]\n",
    "        # leave-one-(person)-out split\n",
    "        people = range(0,8)\n",
    "        splits = loo().split(people)\n",
    "        for people_train, person_val in splits:\n",
    "            # train\n",
    "            action_train = np.empty([0,5]) #5 is the num of dimensions for each obs \n",
    "            seqlenght_train = np.empty(0)\n",
    "            for person in people_train:    \n",
    "                action_ix = [i for i,j in enumerate(y_train[person][0]) if j == action]\n",
    "                person_action = x_train[person][:,action_ix]\n",
    "                action_train = np.append(action_train, np.transpose(person_action), axis=0)\n",
    "                seqlenght_train = np.append(seqlenght_train, person_action.shape[1])\n",
    "            # validation\n",
    "            action_val = np.empty([0,5]) #5 is the num of dimensions for each obs \n",
    "            seqlenght_val = np.empty(0)\n",
    "            val_action_ix = [i for i,j in enumerate(y_train[person_val[0]][0]) if j == action]\n",
    "            val_person_action = x_train[person_val[0]][:,val_action_ix]\n",
    "            action_val = np.append(action_val, np.transpose(val_person_action), axis=0)\n",
    "            seqlenght_val = np.append(seqlenght_val, action_val.shape[1])\n",
    "            # GaussianHMM\n",
    "            model = GaussianHMM(n_components=hs,\n",
    "                                covariance_type=\"diag\",\n",
    "                                n_iter= num_iter).fit(action_train, seqlenght_train.astype(int))\n",
    "            # store the log-likelihood of the model on the validation partition\n",
    "            lls_hs.append(model.score(action_val, seqlenght_val))\n",
    "        # the score with n hidden-states is an average of the log-likelihoods obtained with the LOOcv \n",
    "        print 'Action %s: log-likelihood with %s hidden states = %s' %(action, hs, np.mean(lls_hs))\n",
    "        # I append this mean to LOO_lls\n",
    "        LOO_lls.append(np.mean(lls_hs))\n",
    "    # Finally I will choose the number of hidden states that returns the highest avg(ll)\n",
    "    print 'The best number of hidden-states for action %s is: %s' %(action, LOO_lls.index(max(LOO_lls))+1)\n",
    "    hs_actions[action] = LOO_lls.index(max(LOO_lls))+1\n",
    "    return hs_actions"
   ]
  },
  {
   "cell_type": "code",
   "execution_count": 14,
   "metadata": {
    "collapsed": false
   },
   "outputs": [
    {
     "name": "stdout",
     "output_type": "stream",
     "text": [
      "Action 1: log-likelihood with 1 hidden states = -63.4932376436\n",
      "Action 2: log-likelihood with 1 hidden states = -31.0731412366\n",
      "Action 3: log-likelihood with 1 hidden states = -0.363394588714\n",
      "Action 4: log-likelihood with 1 hidden states = -6.93741697547\n",
      "Action 1: log-likelihood with 2 hidden states = -59.8215499662\n",
      "Action 4: log-likelihood with 2 hidden states = 0.929071144164\n",
      "Action 3: log-likelihood with 2 hidden states = 4.68990214363\n",
      "Action 1: log-likelihood with 3 hidden states = -57.455918976\n",
      "Action 2: log-likelihood with 2 hidden states = -28.8082438475\n",
      "Action 1: log-likelihood with 4 hidden states = -58.4683156993\n",
      "Action 4: log-likelihood with 3 hidden states = -6.80297992394\n",
      "Action 3: log-likelihood with 3 hidden states = 3.09445083704\n",
      "Action 1: log-likelihood with 5 hidden states = -58.8066245565\n",
      "The best number of hidden-states for action 1 is: 3\n",
      "Action 5: log-likelihood with 1 hidden states = 0.79173089881\n",
      "Action 5: log-likelihood with 2 hidden states = 2.25366305162\n",
      "Action 4: log-likelihood with 4 hidden states = -1.62237655562\n",
      "Action 5: log-likelihood with 3 hidden states = -0.786283663932\n",
      "Action 2: log-likelihood with 3 hidden states = -26.7593763159\n",
      "Action 5: log-likelihood with 4 hidden states = 1.23068997063\n",
      "Action 3: log-likelihood with 4 hidden states = 1.67123578853\n",
      "Action 5: log-likelihood with 5 hidden states = -8.06428827618\n",
      "The best number of hidden-states for action 5 is: 2\n",
      "Action 4: log-likelihood with 5 hidden states = -10.7116191322\n",
      "The best number of hidden-states for action 4 is: 2\n",
      "Action 2: log-likelihood with 4 hidden states = -25.9739998885\n",
      "Action 3: log-likelihood with 5 hidden states = 3.96212303865\n",
      "The best number of hidden-states for action 3 is: 2\n",
      "Action 2: log-likelihood with 5 hidden states = -26.2094458166\n",
      "The best number of hidden-states for action 2 is: 4\n"
     ]
    },
    {
     "data": {
      "text/plain": [
       "[{1: 3, 2: 0, 3: 0, 4: 0, 5: 0},\n",
       " {1: 0, 2: 4, 3: 0, 4: 0, 5: 0},\n",
       " {1: 0, 2: 0, 3: 2, 4: 0, 5: 0},\n",
       " {1: 0, 2: 0, 3: 0, 4: 2, 5: 0},\n",
       " {1: 0, 2: 0, 3: 0, 4: 0, 5: 2}]"
      ]
     },
     "execution_count": 14,
     "metadata": {},
     "output_type": "execute_result"
    }
   ],
   "source": [
    "from joblib import Parallel, delayed\n",
    "import multiprocessing\n",
    "     \n",
    "num_cores = multiprocessing.cpu_count()\n",
    "\n",
    "actions = range(1,6)\n",
    "    \n",
    "Parallel(n_jobs=num_cores)(delayed(LOOcv)(action, 5, 10000) for action in actions)"
   ]
  },
  {
   "cell_type": "code",
   "execution_count": 10,
   "metadata": {
    "collapsed": false
   },
   "outputs": [
    {
     "name": "stdout",
     "output_type": "stream",
     "text": [
      "Action 1: log-likelihood with 1 hidden states = -63.4932376436\n",
      "Action 2: log-likelihood with 1 hidden states = -31.0731412366\n",
      "Action 3: log-likelihood with 1 hidden states = -0.363394588714\n",
      "Action 4: log-likelihood with 1 hidden states = -6.93741697547\n",
      "Action 1: log-likelihood with 2 hidden states = -59.8213393624\n",
      "Action 4: log-likelihood with 2 hidden states = 0.929071145707\n",
      "Action 3: log-likelihood with 2 hidden states = 4.68990204463\n",
      "Action 1: log-likelihood with 3 hidden states = -57.455598275\n",
      "Action 2: log-likelihood with 2 hidden states = -28.8082370491\n",
      "Action 1: log-likelihood with 4 hidden states = -58.4679774988\n",
      "Action 4: log-likelihood with 3 hidden states = -6.80242306926\n",
      "Action 3: log-likelihood with 3 hidden states = 3.09440675514\n",
      "Action 1: log-likelihood with 5 hidden states = -58.8064768949\n",
      "Action 4: log-likelihood with 4 hidden states = -1.62237631267\n",
      "Action 2: log-likelihood with 3 hidden states = -26.7638080174\n",
      "Action 3: log-likelihood with 4 hidden states = 1.67120608167\n",
      "Action 1: log-likelihood with 6 hidden states = -58.8826797522\n",
      "Action 4: log-likelihood with 5 hidden states = -10.7117157035\n",
      "Action 1: log-likelihood with 7 hidden states = -58.585214613\n",
      "Action 2: log-likelihood with 4 hidden states = -25.9739963677\n",
      "Action 3: log-likelihood with 5 hidden states = 3.96212437003\n",
      "Action 4: log-likelihood with 6 hidden states = -12.3068322956\n",
      "Action 1: log-likelihood with 8 hidden states = -58.4937321288\n",
      "Action 3: log-likelihood with 6 hidden states = 3.92357875378\n",
      "Action 4: log-likelihood with 7 hidden states = -18.9590343941\n",
      "Action 2: log-likelihood with 5 hidden states = -26.2093620746\n",
      "Action 1: log-likelihood with 9 hidden states = -59.3607324322\n",
      "Action 3: log-likelihood with 7 hidden states = 3.34520982156\n",
      "Action 4: log-likelihood with 8 hidden states = -19.8092517818\n",
      "Action 1: log-likelihood with 10 hidden states = -59.1470437092\n",
      "The best number of hidden-states for action 1 is: 3\n",
      "Action 5: log-likelihood with 1 hidden states = 0.79173089881\n",
      "Action 5: log-likelihood with 2 hidden states = 2.25366305162\n",
      "Action 5: log-likelihood with 3 hidden states = -0.78632956748\n",
      "Action 5: log-likelihood with 4 hidden states = 1.25311293416\n",
      "Action 5: log-likelihood with 5 hidden states = -8.06430245256\n",
      "Action 2: log-likelihood with 6 hidden states = -26.8069717663\n",
      "Action 5: log-likelihood with 6 hidden states = -5.22383934252\n",
      "Action 5: log-likelihood with 7 hidden states = -13.1222829011\n",
      "Action 3: log-likelihood with 8 hidden states = 2.35118216489\n",
      "Action 4: log-likelihood with 9 hidden states = -29.2316152233\n",
      "Action 5: log-likelihood with 8 hidden states = -9.02518040255\n",
      "Action 5: log-likelihood with 9 hidden states = -6.95862042108\n",
      "Action 5: log-likelihood with 10 hidden states = -15.3490872317\n",
      "The best number of hidden-states for action 5 is: 2\n",
      "Action 2: log-likelihood with 7 hidden states = -28.4496238325\n",
      "Action 3: log-likelihood with 9 hidden states = 0.685740755869\n",
      "Action 4: log-likelihood with 10 hidden states = -32.261195633\n",
      "The best number of hidden-states for action 4 is: 2\n",
      "Action 2: log-likelihood with 8 hidden states = -27.640664102\n",
      "Action 3: log-likelihood with 10 hidden states = 1.29603049143\n",
      "The best number of hidden-states for action 3 is: 2\n",
      "Action 2: log-likelihood with 9 hidden states = -20.8349634076\n",
      "Action 2: log-likelihood with 10 hidden states = -24.6406700943\n",
      "The best number of hidden-states for action 2 is: 9\n"
     ]
    },
    {
     "data": {
      "text/plain": [
       "[{1: 3, 2: 0, 3: 0, 4: 0, 5: 0},\n",
       " {1: 0, 2: 9, 3: 0, 4: 0, 5: 0},\n",
       " {1: 0, 2: 0, 3: 2, 4: 0, 5: 0},\n",
       " {1: 0, 2: 0, 3: 0, 4: 2, 5: 0},\n",
       " {1: 0, 2: 0, 3: 0, 4: 0, 5: 2}]"
      ]
     },
     "execution_count": 10,
     "metadata": {},
     "output_type": "execute_result"
    }
   ],
   "source": [
    "from joblib import Parallel, delayed\n",
    "import multiprocessing\n",
    "     \n",
    "num_cores = multiprocessing.cpu_count()\n",
    "\n",
    "actions = range(1,6)\n",
    "    \n",
    "Parallel(n_jobs=num_cores)(delayed(LOOcv)(action, 10, 1000) for action in actions)"
   ]
  },
  {
   "cell_type": "code",
   "execution_count": 4,
   "metadata": {
    "collapsed": false,
    "scrolled": false
   },
   "outputs": [
    {
     "name": "stdout",
     "output_type": "stream",
     "text": [
      "Action 1: log-likelihood with 1 hidden states = -63.4932376436\n",
      "Action 2: log-likelihood with 1 hidden states = -31.0731412366\n",
      "Action 4: log-likelihood with 1 hidden states = -6.93741697547\n",
      "Action 3: log-likelihood with 1 hidden states = -0.363394588714\n",
      "Action 1: log-likelihood with 2 hidden states = -59.8213483636\n",
      "Action 4: log-likelihood with 2 hidden states = 0.929071118155\n",
      "Action 1: log-likelihood with 3 hidden states = -57.455572519\n",
      "Action 3: log-likelihood with 2 hidden states = 4.68990224906\n",
      "Action 2: log-likelihood with 2 hidden states = -28.8082459989\n",
      "Action 1: log-likelihood with 4 hidden states = -58.4683336649\n",
      "Action 4: log-likelihood with 3 hidden states = -6.81716310542\n",
      "Action 3: log-likelihood with 3 hidden states = 3.09443636785\n",
      "Action 1: log-likelihood with 5 hidden states = -58.7978794535\n",
      "Action 4: log-likelihood with 4 hidden states = -1.62237688416\n",
      "Action 2: log-likelihood with 3 hidden states = -26.8155143808\n",
      "Action 1: log-likelihood with 6 hidden states = -59.7083973858\n",
      "Action 3: log-likelihood with 4 hidden states = 1.67123524911\n",
      "Action 1: log-likelihood with 7 hidden states = -58.8538034948\n",
      "Action 4: log-likelihood with 5 hidden states = -10.7117410828\n",
      "Action 2: log-likelihood with 4 hidden states = -25.9558007336\n",
      "Action 3: log-likelihood with 5 hidden states = 3.96212440846\n",
      "Action 1: log-likelihood with 8 hidden states = -58.1065072428\n",
      "Action 4: log-likelihood with 6 hidden states = -12.3068208381\n",
      "Action 1: log-likelihood with 9 hidden states = -59.6349490053\n",
      "Action 2: log-likelihood with 5 hidden states = -25.4520046979\n",
      "Action 3: log-likelihood with 6 hidden states = 4.18923068588\n",
      "Action 4: log-likelihood with 7 hidden states = -18.959033338\n",
      "Action 1: log-likelihood with 10 hidden states = -59.531717523\n",
      "Action 2: log-likelihood with 6 hidden states = -26.3744200591\n",
      "Action 1: log-likelihood with 11 hidden states = -59.3560395709\n",
      "Action 3: log-likelihood with 7 hidden states = 3.34503027037\n",
      "Action 4: log-likelihood with 8 hidden states = -12.8995517926\n",
      "Action 1: log-likelihood with 12 hidden states = -59.5812756601\n",
      "Action 2: log-likelihood with 7 hidden states = -28.7934135379\n",
      "Action 4: log-likelihood with 9 hidden states = -25.0276577756\n",
      "Action 1: log-likelihood with 13 hidden states = -59.7555797946\n",
      "Action 3: log-likelihood with 8 hidden states = 1.93913396802\n",
      "Action 1: log-likelihood with 14 hidden states = -59.5693225252\n",
      "Action 4: log-likelihood with 10 hidden states = -32.4654970264\n",
      "Action 2: log-likelihood with 8 hidden states = -23.8224314895\n",
      "Action 3: log-likelihood with 9 hidden states = 0.736152256418\n",
      "Action 1: log-likelihood with 15 hidden states = -58.669314728\n",
      "Action 4: log-likelihood with 11 hidden states = -17.0471079784\n",
      "Action 1: log-likelihood with 16 hidden states = -59.6501261234\n",
      "Action 3: log-likelihood with 10 hidden states = 1.24952135532\n",
      "Action 2: log-likelihood with 9 hidden states = -21.3810003118\n",
      "Action 1: log-likelihood with 17 hidden states = -59.1154754314\n",
      "Action 4: log-likelihood with 12 hidden states = -26.694025203\n",
      "Action 1: log-likelihood with 18 hidden states = -58.8926999061\n",
      "Action 3: log-likelihood with 11 hidden states = 1.07573204278\n",
      "Action 2: log-likelihood with 10 hidden states = -27.358472074\n",
      "Action 4: log-likelihood with 13 hidden states = -13.5383317725\n",
      "Action 1: log-likelihood with 19 hidden states = -58.6217150184\n",
      "Action 3: log-likelihood with 12 hidden states = -1.74788809561\n",
      "Action 1: log-likelihood with 20 hidden states = -58.8903731999\n",
      "The best number of hidden-states for action 1 is: 3\n",
      "Action 5: log-likelihood with 1 hidden states = 0.79173089881\n",
      "Action 5: log-likelihood with 2 hidden states = 2.25366305162\n",
      "Action 5: log-likelihood with 3 hidden states = -0.786184596184\n",
      "Action 5: log-likelihood with 4 hidden states = 1.25311597521\n",
      "Action 5: log-likelihood with 5 hidden states = -8.06428836756\n",
      "Action 4: log-likelihood with 14 hidden states = -11.8655016542\n",
      "Action 2: log-likelihood with 11 hidden states = -24.3004105664\n",
      "Action 5: log-likelihood with 6 hidden states = -5.22383924654\n",
      "Action 5: log-likelihood with 7 hidden states = -13.1222368761\n",
      "Action 5: log-likelihood with 8 hidden states = -9.02512240194\n",
      "Action 5: log-likelihood with 9 hidden states = -10.233046245\n",
      "Action 5: log-likelihood with 10 hidden states = -20.2568796309\n",
      "Action 3: log-likelihood with 13 hidden states = 1.55404409362\n",
      "Action 5: log-likelihood with 11 hidden states = -22.503252308\n",
      "Action 4: log-likelihood with 15 hidden states = -26.3010539279\n",
      "Action 5: log-likelihood with 12 hidden states = -19.774796818\n",
      "Action 2: log-likelihood with 12 hidden states = -22.0478282905\n",
      "Action 5: log-likelihood with 13 hidden states = -20.4305570978\n",
      "Action 3: log-likelihood with 14 hidden states = 3.52288216152\n",
      "Action 5: log-likelihood with 14 hidden states = -16.5943791233\n",
      "Action 4: log-likelihood with 16 hidden states = -13.153266308\n",
      "Action 5: log-likelihood with 15 hidden states = -4.67441663324\n",
      "Action 2: log-likelihood with 13 hidden states = -20.090211671\n",
      "Action 3: log-likelihood with 15 hidden states = 2.07224341004\n",
      "Action 5: log-likelihood with 16 hidden states = -3.92368902828\n",
      "Action 4: log-likelihood with 17 hidden states = -8.55643365642\n",
      "Action 2: log-likelihood with 14 hidden states = -20.2756132394\n",
      "Action 5: log-likelihood with 17 hidden states = -2.81998481417\n",
      "Action 3: log-likelihood with 16 hidden states = 8.18773592498\n",
      "Action 5: log-likelihood with 18 hidden states = -1.13046095574\n",
      "Action 4: log-likelihood with 18 hidden states = -16.1685442991\n",
      "Action 2: log-likelihood with 15 hidden states = -15.2354259817\n",
      "Action 3: log-likelihood with 17 hidden states = 3.92545350666\n",
      "Action 5: log-likelihood with 19 hidden states = -0.697637651315\n",
      "Action 4: log-likelihood with 19 hidden states = -14.7544326933\n",
      "Action 3: log-likelihood with 18 hidden states = 3.06347477819\n",
      "Action 2: log-likelihood with 16 hidden states = -14.7734933871\n",
      "Action 5: log-likelihood with 20 hidden states = 2.54845900836\n",
      "The best number of hidden-states for action 5 is: 20\n",
      "Action 4: log-likelihood with 20 hidden states = -6.1367405799\n",
      "The best number of hidden-states for action 4 is: 2\n",
      "Action 3: log-likelihood with 19 hidden states = 6.49550137044\n",
      "Action 2: log-likelihood with 17 hidden states = -16.5244472048\n",
      "Action 2: log-likelihood with 18 hidden states = -18.7882819053\n",
      "Action 3: log-likelihood with 20 hidden states = 6.24005740676\n",
      "The best number of hidden-states for action 3 is: 16\n",
      "Action 2: log-likelihood with 19 hidden states = -19.0756126558\n",
      "Action 2: log-likelihood with 20 hidden states = -16.4547199478\n",
      "The best number of hidden-states for action 2 is: 16\n"
     ]
    },
    {
     "data": {
      "text/plain": [
       "[{1: 3, 2: 0, 3: 0, 4: 0, 5: 0},\n",
       " {1: 0, 2: 16, 3: 0, 4: 0, 5: 0},\n",
       " {1: 0, 2: 0, 3: 16, 4: 0, 5: 0},\n",
       " {1: 0, 2: 0, 3: 0, 4: 2, 5: 0},\n",
       " {1: 0, 2: 0, 3: 0, 4: 0, 5: 20}]"
      ]
     },
     "execution_count": 4,
     "metadata": {},
     "output_type": "execute_result"
    }
   ],
   "source": [
    "from joblib import Parallel, delayed\n",
    "import multiprocessing\n",
    "     \n",
    "num_cores = multiprocessing.cpu_count()\n",
    "\n",
    "actions = range(1,6)\n",
    "\n",
    "# with an elevate numbe of hidden-states, I allow for a lower number of iterations to save time  \n",
    "Parallel(n_jobs=num_cores)(delayed(LOOcv)(action, 20, 100) for action in actions)"
   ]
  },
  {
   "cell_type": "code",
   "execution_count": null,
   "metadata": {
    "collapsed": true
   },
   "outputs": [],
   "source": [
    "# NOTE the results above come from a second attempt of LOO, with a larger number of iteration.\n",
    "# However I find more reasonable to continue using\n",
    "# 1:13, 2:17, 3:17, 4:2, 5:2 "
   ]
  },
  {
   "cell_type": "markdown",
   "metadata": {},
   "source": [
    "### Fit the 5 HMMs on the whole train partition"
   ]
  },
  {
   "cell_type": "code",
   "execution_count": 51,
   "metadata": {
    "collapsed": false
   },
   "outputs": [
    {
     "name": "stdout",
     "output_type": "stream",
     "text": [
      "training hmm for action 1\n",
      "training hmm for action 2\n",
      "training hmm for action 3\n",
      "training hmm for action 4\n",
      "training hmm for action 5\n"
     ]
    }
   ],
   "source": [
    "models={}\n",
    "people = range(0,8)\n",
    "best_hs = [13,17,17,2,2]\n",
    "for act in range(1,6):\n",
    "    print \"training hmm for action %s\" %(act)\n",
    "    action_train = np.empty([0,5]) #5 is the num of dimensions for each obs \n",
    "    seqlenght_train = np.empty(0)\n",
    "    for person in people:    \n",
    "        action_ix = [i for i,j in enumerate(y_train[person][0]) if j == act]\n",
    "        person_action = x_train[person][:,action_ix]\n",
    "        action_train = np.append(action_train, np.transpose(person_action), axis=0)\n",
    "        seqlenght_train = np.append(seqlenght_train, person_action.shape[1])\n",
    "    model = GaussianHMM(n_components=best_hs[act-1],\n",
    "                        covariance_type=\"diag\",\n",
    "                        n_iter=1000).fit(action_train, seqlenght_train.astype(int))\n",
    "    models[act]=model"
   ]
  },
  {
   "cell_type": "markdown",
   "metadata": {},
   "source": [
    "### Testing on the same dataset I have trained the models..."
   ]
  },
  {
   "cell_type": "code",
   "execution_count": 53,
   "metadata": {
    "collapsed": false
   },
   "outputs": [
    {
     "name": "stdout",
     "output_type": "stream",
     "text": [
      "predicting person 1\n",
      "predicting person 2\n",
      "predicting person 3\n",
      "predicting person 4\n",
      "predicting person 5\n",
      "predicting person 6\n",
      "predicting person 7\n",
      "predicting person 8\n"
     ]
    }
   ],
   "source": [
    "y_pred = np.array([np.zeros(x_train[0].shape[1]),\n",
    "                   np.zeros(x_train[1].shape[1]),\n",
    "                   np.zeros(x_train[2].shape[1]),\n",
    "                   np.zeros(x_train[3].shape[1]),\n",
    "                   np.zeros(x_train[4].shape[1]),\n",
    "                   np.zeros(x_train[5].shape[1]),\n",
    "                   np.zeros(x_train[6].shape[1]),\n",
    "                   np.zeros(x_train[7].shape[1])])\n",
    "for i in range(8):\n",
    "    print \"predicting person %s\" %(i+1)\n",
    "    for j in range(x_train[i].shape[1]):\n",
    "        for model in range(1,6):\n",
    "            scores.append(models[model].score(np.transpose(x_train[i][:,j])))\n",
    "        y_pred[i][j] = scores.index(max(scores))+1"
   ]
  },
  {
   "cell_type": "code",
   "execution_count": 54,
   "metadata": {
    "collapsed": false
   },
   "outputs": [
    {
     "name": "stdout",
     "output_type": "stream",
     "text": [
      "Accuracy on person 1 is: 0.908434821831\n",
      "Accuracy on person 2 is: 0.89533431101\n",
      "Accuracy on person 3 is: 0.888188073394\n",
      "Accuracy on person 4 is: 0.785033097722\n",
      "Accuracy on person 5 is: 0.880910165485\n",
      "Accuracy on person 6 is: 0.833878464452\n",
      "Accuracy on person 7 is: 0.904076207355\n",
      "Accuracy on person 8 is: 0.915105053947\n"
     ]
    }
   ],
   "source": [
    "for i in range(8):\n",
    "    error = 0\n",
    "    for j in range(len(y_pred[i])):\n",
    "        # print (y_pred[i][j],y_train[i][0][j]) \n",
    "        if y_pred[i][j] != y_train[i][0][j]:\n",
    "            error = error + 1 \n",
    "    print 'Accuracy on person %s is: %s' %(i+1 , 1-error/len(y_pred[i]))"
   ]
  },
  {
   "cell_type": "markdown",
   "metadata": {
    "collapsed": true
   },
   "source": [
    "### Training and testing with another LOO"
   ]
  },
  {
   "cell_type": "code",
   "execution_count": 3,
   "metadata": {
    "collapsed": true
   },
   "outputs": [],
   "source": [
    "def LOOcv2(best_hs):\n",
    "    people = range(0,8)\n",
    "    splits = loo().split(people)\n",
    "    for people_train, person_val in splits:\n",
    "        print 'people train: %s, person validation: %s'%(people_train,person_val)\n",
    "        models = {}\n",
    "        # train\n",
    "        action_train = np.empty([0,5]) #5 is the num of dimensions for each obs \n",
    "        seqlenght_train = np.empty(0)\n",
    "        for action in range(1,6):    \n",
    "            for person in people_train:\n",
    "                action_ix = [i for i,j in enumerate(y_train[person][0]) if j == action]\n",
    "                person_action = x_train[person][:,action_ix]\n",
    "                action_train = np.append(action_train, np.transpose(person_action), axis=0)\n",
    "                seqlenght_train = np.append(seqlenght_train, person_action.shape[1])\n",
    "            # validation\n",
    "            action_val = np.empty([0,5]) #5 is the num of dimensions for each obs \n",
    "            seqlenght_val = np.empty(0)\n",
    "            val_action_ix = [i for i,j in enumerate(y_train[person_val[0]][0]) if j == action]\n",
    "            val_person_action = x_train[person_val[0]][:,val_action_ix]\n",
    "            action_val = np.append(action_val, np.transpose(val_person_action), axis=0)\n",
    "            seqlenght_val = np.append(seqlenght_val, action_val.shape[1])\n",
    "            # GaussianHMM\n",
    "            print 'training HMM for action %s' %(action)\n",
    "            models[action] = GaussianHMM(n_components= best_hs[action],\n",
    "                                covariance_type=\"diag\",\n",
    "                                n_iter=10).fit(action_train, seqlenght_train.astype(int))\n",
    "            # store the log-likelihood of the model on the validation partition\n",
    "        y_pred = np.zeros(x_train[person_val[0]].shape[1])\n",
    "        error = 0\n",
    "        for j in range(x_train[person_val[0]].shape[1]):\n",
    "            scores = []\n",
    "            for action in range(1,6):\n",
    "                scores.append( models[action].score(np.transpose(x_train[person_val[0]][:,j])) )\n",
    "            y_pred[j] = scores.index(max(scores))+1 \n",
    "            #print (y_pred[j], y_train[person_val[0]][0][j])\n",
    "            if int(y_pred[j]) != y_train[person_val[0]][0][j]:\n",
    "                error = error + 1\n",
    "        print 'Accuracy on person %s is: %s' %(person_val[0], 1-error/len(y_pred))\n",
    "        print classification_report(y_true=y_train[person_val[0]][0],y_pred=y_pred)\n",
    "        print accuracy_score(y_pred=y_pred, y_true=y_train[person_val[0]][0])\n",
    "        print '\\n'"
   ]
  },
  {
   "cell_type": "code",
   "execution_count": 11,
   "metadata": {
    "collapsed": false,
    "scrolled": false
   },
   "outputs": [
    {
     "name": "stdout",
     "output_type": "stream",
     "text": [
      "people train: [1 2 3 4 5 6 7], person validation: [0]\n",
      "training HMM for action 1\n",
      "training HMM for action 2\n",
      "training HMM for action 3\n",
      "training HMM for action 4\n",
      "training HMM for action 5\n",
      "Accuracy on person 0 is: 0.525823184484\n",
      "             precision    recall  f1-score   support\n",
      "\n",
      "          1       0.52      0.50      0.51       527\n",
      "          2       0.72      0.58      0.64      3563\n",
      "          3       0.95      0.74      0.83      5800\n",
      "          4       0.14      0.03      0.05      5317\n",
      "          5       0.30      1.00      0.46      2529\n",
      "\n",
      "avg / total       0.55      0.53      0.50     17736\n",
      "\n",
      "0.525823184484\n",
      "\n",
      "\n",
      "people train: [0 2 3 4 5 6 7], person validation: [1]\n",
      "training HMM for action 1\n",
      "training HMM for action 2\n",
      "training HMM for action 3\n",
      "training HMM for action 4\n",
      "training HMM for action 5\n",
      "Accuracy on person 1 is: 0.643691271522\n",
      "             precision    recall  f1-score   support\n",
      "\n",
      "          1       0.56      0.71      0.63       657\n",
      "          2       0.74      0.50      0.60      3666\n",
      "          3       0.96      0.99      0.97      5943\n",
      "          4       0.21      0.02      0.04      4571\n",
      "          5       0.42      1.00      0.59      3574\n",
      "\n",
      "avg / total       0.61      0.64      0.58     18411\n",
      "\n",
      "0.643691271522\n",
      "\n",
      "\n",
      "people train: [0 1 3 4 5 6 7], person validation: [2]\n",
      "training HMM for action 1\n",
      "training HMM for action 2\n",
      "training HMM for action 3\n",
      "training HMM for action 4\n",
      "training HMM for action 5\n",
      "Accuracy on person 2 is: 0.510378440367\n",
      "             precision    recall  f1-score   support\n",
      "\n",
      "          1       0.38      0.51      0.44       550\n",
      "          2       0.84      0.50      0.62      3009\n",
      "          3       0.92      0.81      0.86      4900\n",
      "          4       0.03      0.00      0.01      5865\n",
      "          5       0.32      1.00      0.48      3116\n",
      "\n",
      "avg / total       0.48      0.51      0.45     17440\n",
      "\n",
      "0.510378440367\n",
      "\n",
      "\n",
      "people train: [0 1 2 4 5 6 7], person validation: [3]\n",
      "training HMM for action 1\n",
      "training HMM for action 2\n",
      "training HMM for action 3\n",
      "training HMM for action 4\n",
      "training HMM for action 5\n",
      "Accuracy on person 3 is: 0.588634578705\n",
      "             precision    recall  f1-score   support\n",
      "\n",
      "          1       0.57      0.60      0.58       607\n",
      "          2       0.83      0.52      0.64      3529\n",
      "          3       0.78      0.97      0.86      5813\n",
      "          4       0.31      0.02      0.04      5257\n",
      "          5       0.35      0.98      0.51      2620\n",
      "\n",
      "avg / total       0.58      0.59      0.51     17826\n",
      "\n",
      "0.588634578705\n",
      "\n",
      "\n",
      "people train: [0 1 2 3 5 6 7], person validation: [4]\n",
      "training HMM for action 1\n",
      "training HMM for action 2\n",
      "training HMM for action 3\n",
      "training HMM for action 4\n",
      "training HMM for action 5\n",
      "Accuracy on person 4 is: 0.629196217494\n",
      "             precision    recall  f1-score   support\n",
      "\n",
      "          1       0.78      0.55      0.65       679\n",
      "          2       0.89      0.72      0.80      4495\n",
      "          3       0.88      0.91      0.90      4102\n",
      "          4       0.17      0.03      0.06      4504\n",
      "          5       0.41      1.00      0.58      3140\n",
      "\n",
      "avg / total       0.60      0.63      0.58     16920\n",
      "\n",
      "0.629196217494\n",
      "\n",
      "\n",
      "people train: [0 1 2 3 4 6 7], person validation: [5]\n",
      "training HMM for action 1\n",
      "training HMM for action 2\n",
      "training HMM for action 3\n",
      "training HMM for action 4\n",
      "training HMM for action 5\n",
      "Accuracy on person 5 is: 0.527400011476\n",
      "             precision    recall  f1-score   support\n",
      "\n",
      "          1       0.57      0.61      0.59       585\n",
      "          2       0.86      0.60      0.71      4390\n",
      "          3       0.85      0.62      0.72      4411\n",
      "          4       0.05      0.01      0.02      4645\n",
      "          5       0.37      1.00      0.55      3396\n",
      "\n",
      "avg / total       0.54      0.53      0.49     17427\n",
      "\n",
      "0.527400011476\n",
      "\n",
      "\n",
      "people train: [0 1 2 3 4 5 7], person validation: [6]\n",
      "training HMM for action 1\n",
      "training HMM for action 2\n",
      "training HMM for action 3\n",
      "training HMM for action 4\n",
      "training HMM for action 5\n",
      "Accuracy on person 6 is: 0.721809924679\n",
      "             precision    recall  f1-score   support\n",
      "\n",
      "          1       0.56      0.64      0.60       696\n",
      "          2       0.96      0.69      0.81      3606\n",
      "          3       0.96      1.00      0.98      5838\n",
      "          4       0.68      0.22      0.33      4657\n",
      "          5       0.46      1.00      0.63      3259\n",
      "\n",
      "avg / total       0.78      0.72      0.70     18056\n",
      "\n",
      "0.721809924679\n",
      "\n",
      "\n",
      "people train: [0 1 2 3 4 5 6], person validation: [7]\n",
      "training HMM for action 1\n",
      "training HMM for action 2\n",
      "training HMM for action 3\n",
      "training HMM for action 4\n",
      "training HMM for action 5\n",
      "Accuracy on person 7 is: 0.540204429302\n",
      "             precision    recall  f1-score   support\n",
      "\n",
      "          1       0.86      0.61      0.71       506\n",
      "          2       0.69      0.56      0.62      3114\n",
      "          3       0.96      0.84      0.90      5039\n",
      "          4       0.03      0.00      0.00      5754\n",
      "          5       0.32      1.00      0.49      3197\n",
      "\n",
      "avg / total       0.49      0.54      0.48     17610\n",
      "\n",
      "0.540204429302\n",
      "\n",
      "\n"
     ]
    }
   ],
   "source": [
    "best_hs = {1:3,2:9,3:2,4:2,5:2}\n",
    "LOOcv2(best_hs)"
   ]
  },
  {
   "cell_type": "code",
   "execution_count": 5,
   "metadata": {
    "collapsed": false,
    "scrolled": false
   },
   "outputs": [
    {
     "name": "stdout",
     "output_type": "stream",
     "text": [
      "people train: [1 2 3 4 5 6 7], person validation: [0]\n",
      "training HMM for action 1\n",
      "training HMM for action 2\n",
      "training HMM for action 3\n",
      "training HMM for action 4\n",
      "training HMM for action 5\n",
      "Accuracy on person 0 is: 0.516689219666\n",
      "             precision    recall  f1-score   support\n",
      "\n",
      "          1       0.38      0.38      0.38       527\n",
      "          2       0.71      0.57      0.63      3563\n",
      "          3       0.95      0.74      0.83      5800\n",
      "          4       0.09      0.02      0.04      5317\n",
      "          5       0.30      0.99      0.46      2529\n",
      "\n",
      "avg / total       0.53      0.52      0.49     17736\n",
      "\n",
      "0.516689219666\n",
      "\n",
      "\n",
      "people train: [0 2 3 4 5 6 7], person validation: [1]\n",
      "training HMM for action 1\n",
      "training HMM for action 2\n",
      "training HMM for action 3\n",
      "training HMM for action 4\n",
      "training HMM for action 5\n",
      "Accuracy on person 1 is: 0.601922763565\n",
      "             precision    recall  f1-score   support\n",
      "\n",
      "          1       0.25      0.50      0.34       657\n",
      "          2       0.51      0.35      0.42      3666\n",
      "          3       0.97      0.99      0.98      5943\n",
      "          4       0.04      0.00      0.00      4571\n",
      "          5       0.43      1.00      0.60      3574\n",
      "\n",
      "avg / total       0.52      0.60      0.53     18411\n",
      "\n",
      "0.601922763565\n",
      "\n",
      "\n",
      "people train: [0 1 3 4 5 6 7], person validation: [2]\n",
      "training HMM for action 1\n",
      "training HMM for action 2\n",
      "training HMM for action 3\n",
      "training HMM for action 4\n",
      "training HMM for action 5\n",
      "Accuracy on person 2 is: 0.498165137615\n",
      "             precision    recall  f1-score   support\n",
      "\n",
      "          1       0.30      0.51      0.38       550\n",
      "          2       0.80      0.43      0.56      3009\n",
      "          3       0.89      0.81      0.85      4900\n",
      "          4       0.03      0.00      0.01      5865\n",
      "          5       0.32      1.00      0.48      3116\n",
      "\n",
      "avg / total       0.46      0.50      0.43     17440\n",
      "\n",
      "0.498165137615\n",
      "\n",
      "\n",
      "people train: [0 1 2 4 5 6 7], person validation: [3]\n",
      "training HMM for action 1\n",
      "training HMM for action 2\n",
      "training HMM for action 3\n",
      "training HMM for action 4\n",
      "training HMM for action 5\n",
      "Accuracy on person 3 is: 0.585941882643\n",
      "             precision    recall  f1-score   support\n",
      "\n",
      "          1       0.77      0.60      0.67       607\n",
      "          2       0.84      0.51      0.63      3529\n",
      "          3       0.77      0.96      0.85      5813\n",
      "          4       0.29      0.02      0.04      5257\n",
      "          5       0.34      0.98      0.51      2620\n",
      "\n",
      "avg / total       0.58      0.59      0.51     17826\n",
      "\n",
      "0.585941882643\n",
      "\n",
      "\n",
      "people train: [0 1 2 3 5 6 7], person validation: [4]\n",
      "training HMM for action 1\n",
      "training HMM for action 2\n",
      "training HMM for action 3\n",
      "training HMM for action 4\n",
      "training HMM for action 5\n",
      "Accuracy on person 4 is: 0.585579196217\n",
      "             precision    recall  f1-score   support\n",
      "\n",
      "          1       0.28      0.26      0.27       679\n",
      "          2       0.55      0.65      0.59      4495\n",
      "          3       0.86      0.91      0.89      4102\n",
      "          4       0.05      0.01      0.01      4504\n",
      "          5       0.52      0.97      0.68      3140\n",
      "\n",
      "avg / total       0.47      0.59      0.51     16920\n",
      "\n",
      "0.585579196217\n",
      "\n",
      "\n",
      "people train: [0 1 2 3 4 6 7], person validation: [5]\n",
      "training HMM for action 1\n",
      "training HMM for action 2\n",
      "training HMM for action 3\n",
      "training HMM for action 4\n",
      "training HMM for action 5\n",
      "Accuracy on person 5 is: 0.486027428703\n",
      "             precision    recall  f1-score   support\n",
      "\n",
      "          1       0.22      0.47      0.30       585\n",
      "          2       0.81      0.45      0.58      4390\n",
      "          3       0.84      0.62      0.71      4411\n",
      "          4       0.05      0.01      0.02      4645\n",
      "          5       0.37      1.00      0.54      3396\n",
      "\n",
      "avg / total       0.51      0.49      0.45     17427\n",
      "\n",
      "0.486027428703\n",
      "\n",
      "\n",
      "people train: [0 1 2 3 4 5 7], person validation: [6]\n",
      "training HMM for action 1\n",
      "training HMM for action 2\n",
      "training HMM for action 3\n",
      "training HMM for action 4\n",
      "training HMM for action 5\n",
      "Accuracy on person 6 is: 0.640562693841\n",
      "             precision    recall  f1-score   support\n",
      "\n",
      "          1       0.43      0.52      0.47       696\n",
      "          2       0.33      0.59      0.42      3606\n",
      "          3       0.93      1.00      0.96      5838\n",
      "          4       0.00      0.00      0.00      4657\n",
      "          5       0.84      1.00      0.92      3259\n",
      "\n",
      "avg / total       0.53      0.64      0.58     18056\n",
      "\n",
      "0.640562693841\n",
      "\n",
      "\n",
      "people train: [0 1 2 3 4 5 6], person validation: [7]\n",
      "training HMM for action 1\n",
      "training HMM for action 2\n",
      "training HMM for action 3\n",
      "training HMM for action 4\n",
      "training HMM for action 5\n",
      "Accuracy on person 7 is: 0.539750141965\n",
      "             precision    recall  f1-score   support\n",
      "\n",
      "          1       0.65      0.54      0.59       506\n",
      "          2       0.82      0.57      0.67      3114\n",
      "          3       0.96      0.84      0.90      5039\n",
      "          4       0.01      0.00      0.00      5754\n",
      "          5       0.32      1.00      0.49      3197\n",
      "\n",
      "avg / total       0.50      0.54      0.48     17610\n",
      "\n",
      "0.539750141965\n",
      "\n",
      "\n"
     ]
    }
   ],
   "source": [
    "best_hs = {1:13,2:17,3:2,4:2,5:2}\n",
    "LOOcv2(best_hs)"
   ]
  },
  {
   "cell_type": "code",
   "execution_count": null,
   "metadata": {
    "collapsed": true
   },
   "outputs": [],
   "source": []
  },
  {
   "cell_type": "code",
   "execution_count": null,
   "metadata": {
    "collapsed": true
   },
   "outputs": [],
   "source": []
  },
  {
   "cell_type": "code",
   "execution_count": null,
   "metadata": {
    "collapsed": true
   },
   "outputs": [],
   "source": []
  },
  {
   "cell_type": "code",
   "execution_count": 8,
   "metadata": {
    "collapsed": false
   },
   "outputs": [
    {
     "name": "stdout",
     "output_type": "stream",
     "text": [
      "training hmm for action 1\n",
      "training hmm for action 2\n",
      "training hmm for action 3\n",
      "training hmm for action 4\n",
      "training hmm for action 5\n"
     ]
    }
   ],
   "source": [
    "################\n",
    "# FINAL MODELS #\n",
    "################\n",
    "models={}\n",
    "people = range(0,8)\n",
    "best_hs = [3,9,2,2,2]\n",
    "for act in range(1,6):\n",
    "    print \"training hmm for action %s\" %(act)\n",
    "    action_train = np.empty([0,5]) #5 is the num of dimensions for each obs \n",
    "    seqlenght_train = np.empty(0)\n",
    "    for person in people:    \n",
    "        action_ix = [i for i,j in enumerate(y_train[person][0]) if j == act]\n",
    "        person_action = x_train[person][:,action_ix]\n",
    "        action_train = np.append(action_train, np.transpose(person_action), axis=0)\n",
    "        seqlenght_train = np.append(seqlenght_train, person_action.shape[1])\n",
    "    model = GaussianHMM(n_components=best_hs[act-1],\n",
    "                        covariance_type=\"diag\",\n",
    "                        n_iter=10000).fit(action_train, seqlenght_train.astype(int))\n",
    "    models[act]=model"
   ]
  },
  {
   "cell_type": "code",
   "execution_count": 9,
   "metadata": {
    "collapsed": false
   },
   "outputs": [],
   "source": [
    "# y_test is an empt array that will be filled with predictions\n",
    "predictions = np.array([np.zeros(x_test[0].shape[1]),np.zeros(x_test[1].shape[1])])\n",
    "\n",
    "for i in [0,1]:\n",
    "    for j in range(x_test[i].shape[1]):\n",
    "        scores = [0]\n",
    "        activity = 0\n",
    "        for model in range(1,6):\n",
    "            scores.append(models[model].score(np.transpose(x_test[i][:,j])))\n",
    "            activity = model if scores[model] > scores[model-1] else activity\n",
    "        predictions[i][j] = activity"
   ]
  },
  {
   "cell_type": "code",
   "execution_count": 76,
   "metadata": {
    "collapsed": false
   },
   "outputs": [
    {
     "data": {
      "text/plain": [
       "array([array([ 3.,  3.,  3., ...,  4.,  4.,  4.]),\n",
       "       array([ 2.,  3.,  3., ...,  3.,  3.,  3.])], dtype=object)"
      ]
     },
     "execution_count": 76,
     "metadata": {},
     "output_type": "execute_result"
    }
   ],
   "source": [
    "predictions"
   ]
  },
  {
   "cell_type": "code",
   "execution_count": 19,
   "metadata": {
    "collapsed": false
   },
   "outputs": [],
   "source": [
    "scipy.io.savemat('HAR_BadTestResults_hmm.mat',{'hmm_predictions':predictions})"
   ]
  },
  {
   "cell_type": "code",
   "execution_count": 17,
   "metadata": {
    "collapsed": false
   },
   "outputs": [],
   "source": []
  },
  {
   "cell_type": "code",
   "execution_count": null,
   "metadata": {
    "collapsed": false
   },
   "outputs": [],
   "source": []
  },
  {
   "cell_type": "code",
   "execution_count": null,
   "metadata": {
    "collapsed": false
   },
   "outputs": [],
   "source": []
  },
  {
   "cell_type": "code",
   "execution_count": null,
   "metadata": {
    "collapsed": true
   },
   "outputs": [],
   "source": []
  }
 ],
 "metadata": {
  "kernelspec": {
   "display_name": "Python 2",
   "language": "python",
   "name": "python2"
  },
  "language_info": {
   "codemirror_mode": {
    "name": "ipython",
    "version": 2
   },
   "file_extension": ".py",
   "mimetype": "text/x-python",
   "name": "python",
   "nbconvert_exporter": "python",
   "pygments_lexer": "ipython2",
   "version": "2.7.12"
  }
 },
 "nbformat": 4,
 "nbformat_minor": 2
}
